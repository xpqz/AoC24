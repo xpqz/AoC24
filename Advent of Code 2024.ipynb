{
 "cells": [
  {
   "cell_type": "markdown",
   "id": "936621a7",
   "metadata": {},
   "source": [
    "# Advent of Code 2024 Dyalog APL\n",
    "\n",
    "## Day 1: Historian Hysteria\n",
    "\n",
    "https://adventofcode.com/2024/day/1"
   ]
  },
  {
   "cell_type": "code",
   "execution_count": 2,
   "id": "fa8f3489",
   "metadata": {},
   "outputs": [],
   "source": [
    "d ← ⍎¨⊃⎕NGET 'd/1'1"
   ]
  },
  {
   "cell_type": "code",
   "execution_count": 3,
   "id": "366ef2b2",
   "metadata": {},
   "outputs": [
    {
     "data": {
      "text/html": [
       "<pre class=\"language-APL\">2086478\n",
       "</pre>"
      ]
     },
     "execution_count": 3,
     "metadata": {},
     "output_type": "execute_result"
    }
   ],
   "source": [
    "+/|-⌿{⍵[⍋⍵]}⍤1⍉↑d ⍝ Part 1"
   ]
  },
  {
   "cell_type": "code",
   "execution_count": 8,
   "id": "c30aa741",
   "metadata": {},
   "outputs": [
    {
     "data": {
      "text/html": [
       "<pre class=\"language-APL\">24941624\n",
       "</pre>"
      ]
     },
     "execution_count": 8,
     "metadata": {},
     "output_type": "execute_result"
    }
   ],
   "source": [
    "(a b)←↓⍉{⍺,≢⍵}⌸⊢/↑d\n",
    "⊃+/v×⍤1⍉(a∘.=⍨v←⊣/↑d)/⍤1⊢b ⍝ Part 2"
   ]
  },
  {
   "cell_type": "markdown",
   "id": "988925f2",
   "metadata": {},
   "source": [
    "## Day 2: Red-Nosed Reports\n",
    "\n",
    "https://adventofcode.com/2024/day/2\n",
    "\n",
    "Note: the data are NOT rectangular!"
   ]
  },
  {
   "cell_type": "code",
   "execution_count": 1,
   "id": "c1c38b53",
   "metadata": {},
   "outputs": [],
   "source": [
    "d ← ⍎¨⊃⎕NGET 'd/2'1"
   ]
  },
  {
   "cell_type": "code",
   "execution_count": 5,
   "id": "9539365a",
   "metadata": {},
   "outputs": [],
   "source": [
    "day02p1 ← {(1=≢∘∪)⍵:0 ⋄ (∧/2=/×t)∧×/1≤3≥↑(⌈/,⌊/)|t←¯2-/⍵}"
   ]
  },
  {
   "cell_type": "code",
   "execution_count": 6,
   "id": "dd44ba67",
   "metadata": {},
   "outputs": [
    {
     "data": {
      "text/html": [
       "<pre class=\"language-APL\">432\n",
       "</pre>"
      ]
     },
     "execution_count": 6,
     "metadata": {},
     "output_type": "execute_result"
    }
   ],
   "source": [
    "+/day02p1¨d ⍝ Part 1"
   ]
  },
  {
   "cell_type": "code",
   "execution_count": 7,
   "id": "01984156",
   "metadata": {},
   "outputs": [
    {
     "data": {
      "text/html": [
       "<pre class=\"language-APL\">488\n",
       "</pre>"
      ]
     },
     "execution_count": 7,
     "metadata": {},
     "output_type": "execute_result"
    }
   ],
   "source": [
    "+/day02p1 {1=⍺⍺ ⍵:1 ⋄ ∨/⍺⍺⍤1⊢(~(,⍨⍴1↑⍨1∘+)≢⍵)/⍤1⊢⍵}¨d ⍝ Part 2"
   ]
  },
  {
   "cell_type": "markdown",
   "id": "1b65155f",
   "metadata": {},
   "source": [
    "## Day 3: Mull It Over\n",
    "\n",
    "https://adventofcode.com/2024/day/3\n",
    "\n",
    "Lots of issues open to interpretation. My data contains 6 long lines. Is that six separate strings to calculate on and then sum the totals, or should it be interpreted as a single data stream? The answer seems to be the latter. \n",
    "\n",
    "The solution to part 2 simply removes the content between `don't()` and `do()` and then applies part 1. Whilst this works, it seems that a `don't()` towards the end not followed by a `do()` might get missed, but this case does not appear in my version of the data."
   ]
  },
  {
   "cell_type": "code",
   "execution_count": 58,
   "id": "52aa7edf",
   "metadata": {},
   "outputs": [],
   "source": [
    "d ← ∊⊃⎕NGET 'd/3'1 ⍝ Merge to single data stream"
   ]
  },
  {
   "cell_type": "code",
   "execution_count": 59,
   "id": "89b81fa1",
   "metadata": {},
   "outputs": [
    {
     "data": {
      "text/html": [
       "<pre class=\"language-APL\">191183308\n",
       "</pre>"
      ]
     },
     "execution_count": 59,
     "metadata": {},
     "output_type": "execute_result"
    },
    {
     "data": {
      "text/html": [
       "<pre class=\"language-APL\">92082041\n",
       "</pre>"
      ]
     },
     "execution_count": 59,
     "metadata": {},
     "output_type": "execute_result"
    }
   ],
   "source": [
    "day03p1 ← {+/×/↑⍎¨'mul\\((\\d+),(\\d+)\\)'⎕S'\\1 \\2'⊢⍵} \n",
    "day03p1 d ⍝ Part 1\n",
    "day03p1 'don\\''t\\(\\).*?do\\(\\)'⎕R''⊢d ⍝ Part 2"
   ]
  },
  {
   "cell_type": "markdown",
   "id": "2f8f7d2d",
   "metadata": {},
   "source": [
    "# Day 4\n",
    "\n",
    "https://adventofcode.com/2024/day/4"
   ]
  },
  {
   "cell_type": "code",
   "execution_count": 96,
   "id": "b3b5434e",
   "metadata": {},
   "outputs": [],
   "source": [
    "d ← ⊃⎕NGET 'd/4'1"
   ]
  },
  {
   "cell_type": "code",
   "execution_count": 97,
   "id": "a9e2b7a4",
   "metadata": {},
   "outputs": [],
   "source": [
    "]dinput\n",
    "day04p1 ← {\n",
    "    diag ← {⍵⊂⍤⊢⌸⍥,⍨+/↑⍳⍴⍵}\n",
    "    d1 ← diag ↑⌽¨⍵\n",
    "    d2 ← diag ↑⍵\n",
    "    ≢⊃,/('XMAS' 'SAMX' ⎕S '&'⍠ 'OM' 1)¨d1 d2 ⍵ (↓⍉↑⍵)\n",
    "}"
   ]
  },
  {
   "cell_type": "code",
   "execution_count": 98,
   "id": "ad2117e2",
   "metadata": {},
   "outputs": [
    {
     "data": {
      "text/html": [
       "<pre class=\"language-APL\">2578\n",
       "</pre>"
      ]
     },
     "execution_count": 98,
     "metadata": {},
     "output_type": "execute_result"
    }
   ],
   "source": [
    "day04p1 d ⍝ Part 1"
   ]
  },
  {
   "cell_type": "code",
   "execution_count": 99,
   "id": "235f1c1e",
   "metadata": {},
   "outputs": [],
   "source": [
    "]dinput\n",
    "xmas ← {⎕IO←1\n",
    "    d1 ← 1 1⍉⍵\n",
    "    d2 ← 1 1⍉⌽⍵\n",
    "    2=≢⊃,/('MAS' 'SAM'⎕S'&')¨d1 d2\n",
    "}"
   ]
  },
  {
   "cell_type": "code",
   "execution_count": 100,
   "id": "20fce37f",
   "metadata": {},
   "outputs": [
    {
     "data": {
      "text/html": [
       "<pre class=\"language-APL\">1972\n",
       "</pre>"
      ]
     },
     "execution_count": 100,
     "metadata": {},
     "output_type": "execute_result"
    }
   ],
   "source": [
    "+/∊{xmas ⍵}⌺3 3⊢↑d ⍝ Part 2"
   ]
  },
  {
   "cell_type": "markdown",
   "id": "c2fca6a9",
   "metadata": {},
   "source": [
    "## Day 5\n",
    "\n",
    "https://adventofcode.com/2024/day/5"
   ]
  },
  {
   "cell_type": "code",
   "execution_count": 171,
   "id": "17ffd61e",
   "metadata": {},
   "outputs": [],
   "source": [
    "⎕IO←0\n",
    "num ← {1⊃⍺⎕VFI⍵}\n",
    "mid ← {⍵[⌊2÷⍨≢⍵]}"
   ]
  },
  {
   "cell_type": "code",
   "execution_count": 172,
   "id": "c1075c81",
   "metadata": {},
   "outputs": [],
   "source": [
    "d ← ⊃⎕NGET 'd/5'1\n",
    "(a b)←d⊂⍨1@0{0=≢⍵}¨d\n",
    "rules ← '|'num¨a ⋄ pages ← ','num¨1↓b"
   ]
  },
  {
   "cell_type": "code",
   "execution_count": 173,
   "id": "2a28f445",
   "metadata": {},
   "outputs": [],
   "source": [
    "apply ← {s←⍺∘.=⍵ ⋄ ~∧/+/s:1 ⋄ ⊃<⌿⍸⍤1⊢s}"
   ]
  },
  {
   "cell_type": "code",
   "execution_count": 174,
   "id": "389ef123",
   "metadata": {},
   "outputs": [],
   "source": [
    "valid ← ∧⌿rules ∘.apply pages"
   ]
  },
  {
   "cell_type": "code",
   "execution_count": 175,
   "id": "8dc181bb",
   "metadata": {},
   "outputs": [
    {
     "data": {
      "text/html": [
       "<pre class=\"language-APL\">5268\n",
       "</pre>"
      ]
     },
     "execution_count": 175,
     "metadata": {},
     "output_type": "execute_result"
    }
   ],
   "source": [
    "+/mid¨valid/pages ⍝ Part 1"
   ]
  },
  {
   "cell_type": "code",
   "execution_count": 176,
   "id": "be484c16",
   "metadata": {},
   "outputs": [],
   "source": [
    "(triggers checks) ← ↓⍉(⊃¨,∘⊂⌸⊢/¨) rules"
   ]
  },
  {
   "cell_type": "code",
   "execution_count": 177,
   "id": "0c7c71c9",
   "metadata": {},
   "outputs": [],
   "source": [
    "arrange ← {p ←⊃(⍺=triggers)/checks⋄¯1++/0=∨⌿p ∘.= ⍵}"
   ]
  },
  {
   "cell_type": "code",
   "execution_count": 178,
   "id": "55cf24d1",
   "metadata": {},
   "outputs": [
    {
     "data": {
      "text/html": [
       "<pre class=\"language-APL\">5799\n",
       "</pre>"
      ]
     },
     "execution_count": 178,
     "metadata": {},
     "output_type": "execute_result"
    }
   ],
   "source": [
    "+/mid¨{⍵@(⍵∘.arrange ⊂⍵)⊢0⍴⍨≢⍵}¨pages/⍨~valid ⍝ Part 2"
   ]
  },
  {
   "cell_type": "code",
   "execution_count": null,
   "id": "d0572b85",
   "metadata": {},
   "outputs": [],
   "source": []
  }
 ],
 "metadata": {
  "kernelspec": {
   "display_name": "Dyalog APL",
   "language": "apl",
   "name": "dyalog_apl"
  },
  "language_info": {
   "file_extension": ".apl",
   "mimetype": "text/apl",
   "name": "APL"
  }
 },
 "nbformat": 4,
 "nbformat_minor": 5
}
