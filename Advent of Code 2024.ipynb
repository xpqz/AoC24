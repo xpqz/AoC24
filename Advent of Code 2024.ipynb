{
 "cells": [
  {
   "cell_type": "markdown",
   "id": "e0283593",
   "metadata": {},
   "source": [
    "# Advent of Code 2024 Dyalog APL\n",
    "\n",
    "## Day 1: Historian Hysteria\n",
    "\n",
    "https://adventofcode.com/2024/day/1"
   ]
  },
  {
   "cell_type": "code",
   "execution_count": 2,
   "id": "0f3985ca",
   "metadata": {},
   "outputs": [],
   "source": [
    "d ← ⍎¨⊃⎕NGET 'd/1'1"
   ]
  },
  {
   "cell_type": "code",
   "execution_count": 3,
   "id": "04bec024",
   "metadata": {},
   "outputs": [
    {
     "data": {
      "text/html": [
       "<pre class=\"language-APL\">2086478\n",
       "</pre>"
      ]
     },
     "execution_count": 3,
     "metadata": {},
     "output_type": "execute_result"
    }
   ],
   "source": [
    "+/|-⌿{⍵[⍋⍵]}⍤1⍉↑d ⍝ Part 1"
   ]
  },
  {
   "cell_type": "code",
   "execution_count": 8,
   "id": "d94d0523",
   "metadata": {},
   "outputs": [
    {
     "data": {
      "text/html": [
       "<pre class=\"language-APL\">24941624\n",
       "</pre>"
      ]
     },
     "execution_count": 8,
     "metadata": {},
     "output_type": "execute_result"
    }
   ],
   "source": [
    "(a b)←↓⍉{⍺,≢⍵}⌸⊢/↑d\n",
    "⊃+/v×⍤1⍉(a∘.=⍨v←⊣/↑d)/⍤1⊢b ⍝ Part 2"
   ]
  },
  {
   "cell_type": "markdown",
   "id": "a53add9d",
   "metadata": {},
   "source": [
    "## Day 2: Red-Nosed Reports\n",
    "\n",
    "https://adventofcode.com/2024/day/2\n",
    "\n",
    "Note: the data are NOT rectangular!"
   ]
  },
  {
   "cell_type": "code",
   "execution_count": 1,
   "id": "99e1a001",
   "metadata": {},
   "outputs": [],
   "source": [
    "d ← ⍎¨⊃⎕NGET 'd/2'1"
   ]
  },
  {
   "cell_type": "code",
   "execution_count": 5,
   "id": "5f466c79",
   "metadata": {},
   "outputs": [],
   "source": [
    "day02p1 ← {(1=≢∘∪)⍵:0 ⋄ (∧/2=/×t)∧×/1≤3≥↑(⌈/,⌊/)|t←¯2-/⍵}"
   ]
  },
  {
   "cell_type": "code",
   "execution_count": 6,
   "id": "eccb1331",
   "metadata": {},
   "outputs": [
    {
     "data": {
      "text/html": [
       "<pre class=\"language-APL\">432\n",
       "</pre>"
      ]
     },
     "execution_count": 6,
     "metadata": {},
     "output_type": "execute_result"
    }
   ],
   "source": [
    "+/day02p1¨d ⍝ Part 1"
   ]
  },
  {
   "cell_type": "code",
   "execution_count": 7,
   "id": "77c17c01",
   "metadata": {},
   "outputs": [
    {
     "data": {
      "text/html": [
       "<pre class=\"language-APL\">488\n",
       "</pre>"
      ]
     },
     "execution_count": 7,
     "metadata": {},
     "output_type": "execute_result"
    }
   ],
   "source": [
    "+/day02p1 {1=⍺⍺ ⍵:1 ⋄ ∨/⍺⍺⍤1⊢(~(,⍨⍴1↑⍨1∘+)≢⍵)/⍤1⊢⍵}¨d ⍝ Part 2"
   ]
  },
  {
   "cell_type": "markdown",
   "id": "cdc9e424",
   "metadata": {},
   "source": [
    "## Day 3: Mull It Over\n",
    "\n",
    "https://adventofcode.com/2024/day/3\n",
    "\n",
    "Lots of issues open to interpretation. My data contains 6 long lines. Is that six separate strings to calculate on and then sum the totals, or should it be interpreted as a single data stream? The answer seems to be the latter. \n",
    "\n",
    "The solution to part 2 simply removes the content between `don't()` and `do()` and then applies part 1. Whilst this works, it seems that a `don't()` towards the end not followed by a `do()` might get missed, but this case does not appear in my version of the data."
   ]
  },
  {
   "cell_type": "code",
   "execution_count": 58,
   "id": "e6f84f29",
   "metadata": {},
   "outputs": [],
   "source": [
    "d ← ∊⊃⎕NGET 'd/3'1 ⍝ Merge to single data stream"
   ]
  },
  {
   "cell_type": "code",
   "execution_count": 59,
   "id": "57ac5e9a",
   "metadata": {},
   "outputs": [
    {
     "data": {
      "text/html": [
       "<pre class=\"language-APL\">191183308\n",
       "</pre>"
      ]
     },
     "execution_count": 59,
     "metadata": {},
     "output_type": "execute_result"
    },
    {
     "data": {
      "text/html": [
       "<pre class=\"language-APL\">92082041\n",
       "</pre>"
      ]
     },
     "execution_count": 59,
     "metadata": {},
     "output_type": "execute_result"
    }
   ],
   "source": [
    "day03p1 ← {+/×/↑⍎¨'mul\\((\\d+),(\\d+)\\)'⎕S'\\1 \\2'⊢⍵} \n",
    "day03p1 d ⍝ Part 1\n",
    "day03p1 'don\\''t\\(\\).*?do\\(\\)'⎕R''⊢d ⍝ Part 2"
   ]
  },
  {
   "cell_type": "code",
   "execution_count": null,
   "id": "c8dce6ef",
   "metadata": {},
   "outputs": [],
   "source": []
  }
 ],
 "metadata": {
  "kernelspec": {
   "display_name": "Dyalog APL",
   "language": "apl",
   "name": "dyalog_apl"
  },
  "language_info": {
   "file_extension": ".apl",
   "mimetype": "text/apl",
   "name": "APL"
  }
 },
 "nbformat": 4,
 "nbformat_minor": 5
}
