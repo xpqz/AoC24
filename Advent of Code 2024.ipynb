{
 "cells": [
  {
   "cell_type": "markdown",
   "id": "c92b8f82",
   "metadata": {},
   "source": [
    "# Advent of Code 2024 Dyalog APL\n",
    "\n",
    "## Day 1: Historian Hysteria\n",
    "\n",
    "https://adventofcode.com/2024/day/1"
   ]
  },
  {
   "cell_type": "code",
   "execution_count": 188,
   "id": "c8e221b6",
   "metadata": {},
   "outputs": [
    {
     "data": {
      "text/html": [
       "<pre class=\"language-APL\">Was OFF\n",
       "</pre>"
      ]
     },
     "execution_count": 188,
     "metadata": {},
     "output_type": "execute_result"
    }
   ],
   "source": [
    "⎕IO←0\n",
    "]rows on"
   ]
  },
  {
   "cell_type": "code",
   "execution_count": 2,
   "id": "0e4a8a71",
   "metadata": {},
   "outputs": [],
   "source": [
    "d ← ⍎¨⊃⎕NGET 'd/1'1"
   ]
  },
  {
   "cell_type": "code",
   "execution_count": 3,
   "id": "b6ce43fa",
   "metadata": {},
   "outputs": [
    {
     "data": {
      "text/html": [
       "<pre class=\"language-APL\">2086478\n",
       "</pre>"
      ]
     },
     "execution_count": 3,
     "metadata": {},
     "output_type": "execute_result"
    }
   ],
   "source": [
    "+/|-⌿{⍵[⍋⍵]}⍤1⍉↑d ⍝ Part 1"
   ]
  },
  {
   "cell_type": "code",
   "execution_count": 8,
   "id": "82321af5",
   "metadata": {},
   "outputs": [
    {
     "data": {
      "text/html": [
       "<pre class=\"language-APL\">24941624\n",
       "</pre>"
      ]
     },
     "execution_count": 8,
     "metadata": {},
     "output_type": "execute_result"
    }
   ],
   "source": [
    "(a b)←↓⍉{⍺,≢⍵}⌸⊢/↑d\n",
    "⊃+/v×⍤1⍉(a∘.=⍨v←⊣/↑d)/⍤1⊢b ⍝ Part 2"
   ]
  },
  {
   "cell_type": "markdown",
   "id": "aba73ae6",
   "metadata": {},
   "source": [
    "## Day 2: Red-Nosed Reports\n",
    "\n",
    "https://adventofcode.com/2024/day/2\n",
    "\n",
    "Note: the data are NOT rectangular!"
   ]
  },
  {
   "cell_type": "code",
   "execution_count": 1,
   "id": "064ade33",
   "metadata": {},
   "outputs": [],
   "source": [
    "d ← ⍎¨⊃⎕NGET 'd/2'1"
   ]
  },
  {
   "cell_type": "code",
   "execution_count": 5,
   "id": "1ae6cbdd",
   "metadata": {},
   "outputs": [],
   "source": [
    "day02p1 ← {(1=≢∘∪)⍵:0 ⋄ (∧/2=/×t)∧×/1≤3≥↑(⌈/,⌊/)|t←¯2-/⍵}"
   ]
  },
  {
   "cell_type": "code",
   "execution_count": 6,
   "id": "c5063b58",
   "metadata": {},
   "outputs": [
    {
     "data": {
      "text/html": [
       "<pre class=\"language-APL\">432\n",
       "</pre>"
      ]
     },
     "execution_count": 6,
     "metadata": {},
     "output_type": "execute_result"
    }
   ],
   "source": [
    "+/day02p1¨d ⍝ Part 1"
   ]
  },
  {
   "cell_type": "code",
   "execution_count": 7,
   "id": "e2347b11",
   "metadata": {},
   "outputs": [
    {
     "data": {
      "text/html": [
       "<pre class=\"language-APL\">488\n",
       "</pre>"
      ]
     },
     "execution_count": 7,
     "metadata": {},
     "output_type": "execute_result"
    }
   ],
   "source": [
    "+/day02p1 {1=⍺⍺ ⍵:1 ⋄ ∨/⍺⍺⍤1⊢(~(,⍨⍴1↑⍨1∘+)≢⍵)/⍤1⊢⍵}¨d ⍝ Part 2"
   ]
  },
  {
   "cell_type": "markdown",
   "id": "3af577e5",
   "metadata": {},
   "source": [
    "## Day 3: Mull It Over\n",
    "\n",
    "https://adventofcode.com/2024/day/3\n",
    "\n",
    "Lots of issues open to interpretation. My data contains 6 long lines. Is that six separate strings to calculate on and then sum the totals, or should it be interpreted as a single data stream? The answer seems to be the latter. \n",
    "\n",
    "The solution to part 2 simply removes the content between `don't()` and `do()` and then applies part 1. Whilst this works, it seems that a `don't()` towards the end not followed by a `do()` might get missed, but this case does not appear in my version of the data."
   ]
  },
  {
   "cell_type": "code",
   "execution_count": 58,
   "id": "9fcbe431",
   "metadata": {},
   "outputs": [],
   "source": [
    "d ← ∊⊃⎕NGET 'd/3'1 ⍝ Merge to single data stream"
   ]
  },
  {
   "cell_type": "code",
   "execution_count": 59,
   "id": "b3642f8c",
   "metadata": {},
   "outputs": [
    {
     "data": {
      "text/html": [
       "<pre class=\"language-APL\">191183308\n",
       "</pre>"
      ]
     },
     "execution_count": 59,
     "metadata": {},
     "output_type": "execute_result"
    },
    {
     "data": {
      "text/html": [
       "<pre class=\"language-APL\">92082041\n",
       "</pre>"
      ]
     },
     "execution_count": 59,
     "metadata": {},
     "output_type": "execute_result"
    }
   ],
   "source": [
    "day03p1 ← {+/×/↑⍎¨'mul\\((\\d+),(\\d+)\\)'⎕S'\\1 \\2'⊢⍵} \n",
    "day03p1 d ⍝ Part 1\n",
    "day03p1 'don\\''t\\(\\).*?do\\(\\)'⎕R''⊢d ⍝ Part 2"
   ]
  },
  {
   "cell_type": "markdown",
   "id": "ca6d7d6c",
   "metadata": {},
   "source": [
    "# Day 4\n",
    "\n",
    "https://adventofcode.com/2024/day/4"
   ]
  },
  {
   "cell_type": "code",
   "execution_count": 96,
   "id": "0a37047a",
   "metadata": {},
   "outputs": [],
   "source": [
    "d ← ⊃⎕NGET 'd/4'1"
   ]
  },
  {
   "cell_type": "code",
   "execution_count": 97,
   "id": "855df54e",
   "metadata": {},
   "outputs": [],
   "source": [
    "]dinput\n",
    "day04p1 ← {\n",
    "    diag ← {⍵⊂⍤⊢⌸⍥,⍨+/↑⍳⍴⍵}\n",
    "    d1 ← diag ↑⌽¨⍵\n",
    "    d2 ← diag ↑⍵\n",
    "    ≢⊃,/('XMAS' 'SAMX' ⎕S '&'⍠ 'OM' 1)¨d1 d2 ⍵ (↓⍉↑⍵)\n",
    "}"
   ]
  },
  {
   "cell_type": "code",
   "execution_count": 98,
   "id": "ab27089b",
   "metadata": {},
   "outputs": [
    {
     "data": {
      "text/html": [
       "<pre class=\"language-APL\">2578\n",
       "</pre>"
      ]
     },
     "execution_count": 98,
     "metadata": {},
     "output_type": "execute_result"
    }
   ],
   "source": [
    "day04p1 d ⍝ Part 1"
   ]
  },
  {
   "cell_type": "code",
   "execution_count": 99,
   "id": "3a84808d",
   "metadata": {},
   "outputs": [],
   "source": [
    "]dinput\n",
    "xmas ← {⎕IO←1\n",
    "    d1 ← 1 1⍉⍵\n",
    "    d2 ← 1 1⍉⌽⍵\n",
    "    2=≢⊃,/('MAS' 'SAM'⎕S'&')¨d1 d2\n",
    "}"
   ]
  },
  {
   "cell_type": "code",
   "execution_count": 100,
   "id": "bff9cea0",
   "metadata": {},
   "outputs": [
    {
     "data": {
      "text/html": [
       "<pre class=\"language-APL\">1972\n",
       "</pre>"
      ]
     },
     "execution_count": 100,
     "metadata": {},
     "output_type": "execute_result"
    }
   ],
   "source": [
    "+/∊{xmas ⍵}⌺3 3⊢↑d ⍝ Part 2"
   ]
  },
  {
   "cell_type": "markdown",
   "id": "8299bc97",
   "metadata": {},
   "source": [
    "## Day 5\n",
    "\n",
    "https://adventofcode.com/2024/day/5"
   ]
  },
  {
   "cell_type": "code",
   "execution_count": 171,
   "id": "54b9edf7",
   "metadata": {},
   "outputs": [],
   "source": [
    "⎕IO←0\n",
    "num ← {1⊃⍺⎕VFI⍵}\n",
    "mid ← {⍵[⌊2÷⍨≢⍵]}"
   ]
  },
  {
   "cell_type": "code",
   "execution_count": 172,
   "id": "33082c8d",
   "metadata": {},
   "outputs": [],
   "source": [
    "d ← ⊃⎕NGET 'd/5'1\n",
    "(a b)←d⊂⍨1@0{0=≢⍵}¨d\n",
    "rules ← '|'num¨a ⋄ pages ← ','num¨1↓b"
   ]
  },
  {
   "cell_type": "code",
   "execution_count": 173,
   "id": "a7e82ec2",
   "metadata": {},
   "outputs": [],
   "source": [
    "apply ← {s←⍺∘.=⍵ ⋄ ~∧/+/s:1 ⋄ ⊃<⌿⍸⍤1⊢s}"
   ]
  },
  {
   "cell_type": "code",
   "execution_count": 174,
   "id": "b24091cc",
   "metadata": {},
   "outputs": [],
   "source": [
    "valid ← ∧⌿rules ∘.apply pages"
   ]
  },
  {
   "cell_type": "code",
   "execution_count": 175,
   "id": "e7a51a03",
   "metadata": {},
   "outputs": [
    {
     "data": {
      "text/html": [
       "<pre class=\"language-APL\">5268\n",
       "</pre>"
      ]
     },
     "execution_count": 175,
     "metadata": {},
     "output_type": "execute_result"
    }
   ],
   "source": [
    "+/mid¨valid/pages ⍝ Part 1"
   ]
  },
  {
   "cell_type": "code",
   "execution_count": 176,
   "id": "5ee71af5",
   "metadata": {},
   "outputs": [],
   "source": [
    "(triggers checks) ← ↓⍉(⊃¨,∘⊂⌸⊢/¨) rules"
   ]
  },
  {
   "cell_type": "code",
   "execution_count": 177,
   "id": "7b15f71e",
   "metadata": {},
   "outputs": [],
   "source": [
    "arrange ← {p ←⊃(⍺=triggers)/checks⋄¯1++/0=∨⌿p ∘.= ⍵}"
   ]
  },
  {
   "cell_type": "code",
   "execution_count": 178,
   "id": "964c0a09",
   "metadata": {},
   "outputs": [
    {
     "data": {
      "text/html": [
       "<pre class=\"language-APL\">5799\n",
       "</pre>"
      ]
     },
     "execution_count": 178,
     "metadata": {},
     "output_type": "execute_result"
    }
   ],
   "source": [
    "+/mid¨{⍵@(⍵∘.arrange ⊂⍵)⊢0⍴⍨≢⍵}¨pages/⍨~valid ⍝ Part 2"
   ]
  },
  {
   "cell_type": "markdown",
   "id": "4cba6022",
   "metadata": {},
   "source": [
    "## Day 6\n",
    "\n",
    "https://adventofcode.com/2024/day/6"
   ]
  },
  {
   "cell_type": "code",
   "execution_count": 213,
   "id": "8cf811b5",
   "metadata": {},
   "outputs": [],
   "source": [
    "d ← ↑⊃⎕NGET 'd/6'1\n",
    "shifts←{ (⍺⍪2⊣⌿⍵)(2⊢/⍵,⍺)(2⊢⌿⍵⍪⍺)(⍺,2⊣/⍵)}  ⍝ 4-connected neighbours via shifting URDL"
   ]
  },
  {
   "cell_type": "code",
   "execution_count": 214,
   "id": "336ae8bf",
   "metadata": {},
   "outputs": [],
   "source": [
    "map←'#'=d\n",
    "pos←⊃⍸'^'=d\n",
    "delta ← (¯1 0)(0 1)(1 0)(0 ¯1)"
   ]
  },
  {
   "cell_type": "code",
   "execution_count": 215,
   "id": "03cac61f",
   "metadata": {},
   "outputs": [],
   "source": [
    "neighs ← ¯1 shifts map"
   ]
  },
  {
   "cell_type": "code",
   "execution_count": 216,
   "id": "74c605bc",
   "metadata": {},
   "outputs": [],
   "source": [
    "]dinput\n",
    "walk ← {\n",
    "    next ← (⊂⍺)⊃⍵⊃neighs\n",
    "    ¯1=next: ≢∪locs\n",
    "    0=next: ⍵∇⍨n⊣locs,←⊂n←⍺ + ⍵⊃delta ⍝ Same direction\n",
    "    ⍺∇4|⍵+1 ⍝ Turn clockwise 90\n",
    "} "
   ]
  },
  {
   "cell_type": "code",
   "execution_count": 217,
   "id": "5330cbc8",
   "metadata": {},
   "outputs": [
    {
     "data": {
      "text/html": [
       "<pre class=\"language-APL\">4454\n",
       "</pre>"
      ]
     },
     "execution_count": 217,
     "metadata": {},
     "output_type": "execute_result"
    }
   ],
   "source": [
    "locs ← ⊂pos\n",
    "pos walk 0 ⍝ Part 1"
   ]
  },
  {
   "cell_type": "markdown",
   "id": "268b3273",
   "metadata": {},
   "source": [
    "Part 2: how many positions, if added as obstruction, would cause a loop?\n",
    "\n",
    "Store the direction at each location. If a location is revisited with the same direction, we have a loop."
   ]
  },
  {
   "cell_type": "code",
   "execution_count": 219,
   "id": "0f990a0e",
   "metadata": {},
   "outputs": [],
   "source": [
    "]dinput\n",
    "isloop ← {\n",
    "    (⍵≢⊃⍺)∧(⊂⍵)∊⍺: 1 ⍝ loop detected\n",
    "    p ← 2↑⍵ ⋄ d ← ⊃⌽⍵\n",
    "    next ← (⊂p)⊃d⊃neighs\n",
    "    ¯1=next: 0 ⍝ no loop possible\n",
    "\n",
    "    0=next: (⍺,⊂⍵)∇d,⍨p+d⊃delta ⍝ Same direction\n",
    "    (⍺,⊂⍵)∇p,4|d+1 ⍝ Turn clockwise 90\n",
    "}"
   ]
  },
  {
   "cell_type": "code",
   "execution_count": 220,
   "id": "5bd9011a",
   "metadata": {},
   "outputs": [],
   "source": [
    "]dinput\n",
    "part2 ← {\n",
    "    m←'#'=d\n",
    "    pos←⊃⍸'^'=d\n",
    "    check ← (⍳⍴m)[⍸~m]~pos\n",
    "    +/{\n",
    "        m[⊂⍵]←1\n",
    "        neighs ⊢← ¯1 shifts m\n",
    "        r←(⊂pos,0)isloop pos,0\n",
    "        m[⊂⍵]←0\n",
    "        r\n",
    "    } ¨ check\n",
    "}"
   ]
  },
  {
   "cell_type": "markdown",
   "id": "a33a7e3a",
   "metadata": {},
   "source": [
    "Brute-force works, but crushingly slow."
   ]
  },
  {
   "cell_type": "markdown",
   "id": "485245c2",
   "metadata": {},
   "source": [
    "## Day 7\n",
    "\n",
    "https://adventofcode.com/2024/day/7"
   ]
  },
  {
   "cell_type": "code",
   "execution_count": 281,
   "id": "4402e122",
   "metadata": {},
   "outputs": [],
   "source": [
    "⎕FR ⎕PP ⎕IO←1287 34 0\n",
    "d ← ':'(⍎⍤∊≠⊆⊢)¨⊃⎕NGET 'd/7'1"
   ]
  },
  {
   "cell_type": "code",
   "execution_count": 236,
   "id": "2099d458",
   "metadata": {},
   "outputs": [],
   "source": [
    "∇ eval ← {\n",
    "    target ← ⊃⍵\n",
    "    terms ← ⌽1↓⍵\n",
    "\n",
    "    r ← ¯2+≢terms\n",
    "    0=r:(target=+/terms)∨(target=×/terms)\n",
    "    ops ← ,∘.,⍣r⍨'+×'\n",
    "    ∨/target={⍎⍕∊↓⍉↑⍵}⍤1⊢terms,⍥⊂⍤1↑ops\n",
    "}\n",
    "∇"
   ]
  },
  {
   "cell_type": "code",
   "execution_count": 237,
   "id": "155614dd",
   "metadata": {},
   "outputs": [
    {
     "data": {
      "text/html": [
       "<pre class=\"language-APL\">1038838357795\n",
       "</pre>"
      ]
     },
     "execution_count": 237,
     "metadata": {},
     "output_type": "execute_result"
    }
   ],
   "source": [
    "r ← eval¨d\n",
    "+/r/⊃¨d ⍝ Part 1 1038838357795"
   ]
  },
  {
   "cell_type": "markdown",
   "id": "d207418b",
   "metadata": {},
   "source": [
    "Part 2 adds the `||` operator, which is string concatenation: `2||3 → 23`. This complicates things as we can't simply reverse and evaluate. Brute-forcing takes too long. Biggest win seems to be partial evaluation, and pruning early by first working out the biggest number that can be generated and bailing if that's smaller than the target. "
   ]
  },
  {
   "cell_type": "code",
   "execution_count": 296,
   "id": "11fcd46b",
   "metadata": {},
   "outputs": [],
   "source": [
    "∇ eval ← {⎕IO←0\n",
    "    target ← ⊃⍵\n",
    "    nums ← 1↓⍵\n",
    "    \n",
    "    valid ← {\n",
    "        (c n t) ← ⍵\n",
    "        0=≢n: c=t\n",
    "        max←(×⌈+)/n,c\n",
    "        min←(×⌊+)/n,c\n",
    "        ~((t>max)∧t>conc)∨(t<min)∧t<conc←⍎' '~⍨⍕c,n\n",
    "    }\n",
    "\n",
    "    {   ⍺←0\n",
    "        ⍺=≢nums: ⍵=target\n",
    "        ~valid ⍵ (⍺↓nums) target: 0\n",
    "        0=⍺: 1∇⊃nums\n",
    "        (⍺+1)∇⍵+⍺⊃nums: 1\n",
    "        (⍺+1)∇⍵×⍺⊃nums: 1\n",
    "        (⍺+1)∇⍎' '~⍨⍕⍵ (⍺⊃nums): 1\n",
    "        0\n",
    "    } 0\n",
    "}\n",
    "∇"
   ]
  },
  {
   "cell_type": "code",
   "execution_count": 297,
   "id": "8c6c71de",
   "metadata": {},
   "outputs": [
    {
     "data": {
      "text/html": [
       "<pre class=\"language-APL\">\n",
       "* Benchmarking \"r ← eval¨d\"\n",
       "┌──────────┬─────┐\n",
       "│          │(ms) │\n",
       "├──────────┼─────┤\n",
       "│CPU (avg):│19446│\n",
       "├──────────┼─────┤\n",
       "│Elapsed:  │19704│\n",
       "└──────────┴─────┘\n",
       "</pre>"
      ]
     },
     "execution_count": 297,
     "metadata": {},
     "output_type": "execute_result"
    }
   ],
   "source": [
    "]runtime \"r ← eval¨d\""
   ]
  },
  {
   "cell_type": "code",
   "execution_count": 295,
   "id": "d764c1af",
   "metadata": {},
   "outputs": [
    {
     "data": {
      "text/html": [
       "<pre class=\"language-APL\">254136560217241\n",
       "</pre>"
      ]
     },
     "execution_count": 295,
     "metadata": {},
     "output_type": "execute_result"
    }
   ],
   "source": [
    "+/r/⊃¨d ⍝ Part 2: 254136560217241"
   ]
  },
  {
   "cell_type": "raw",
   "id": "92af1780",
   "metadata": {},
   "source": []
  }
 ],
 "metadata": {
  "kernelspec": {
   "display_name": "Dyalog APL",
   "language": "apl",
   "name": "dyalog_apl"
  },
  "language_info": {
   "file_extension": ".apl",
   "mimetype": "text/apl",
   "name": "APL"
  }
 },
 "nbformat": 4,
 "nbformat_minor": 5
}
