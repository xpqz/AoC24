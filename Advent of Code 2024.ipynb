{
 "cells": [
  {
   "cell_type": "markdown",
   "id": "ef0d8460",
   "metadata": {},
   "source": [
    "# Advent of Code 2024 Dyalog APL\n",
    "\n",
    "## Day 1: Historian Hysteria\n",
    "\n",
    "https://adventofcode.com/2024/day/1"
   ]
  },
  {
   "cell_type": "code",
   "execution_count": 2,
   "id": "1e5e2d14",
   "metadata": {},
   "outputs": [],
   "source": [
    "d ← ⍎¨⊃⎕NGET 'd/1'1"
   ]
  },
  {
   "cell_type": "code",
   "execution_count": 3,
   "id": "df922047",
   "metadata": {},
   "outputs": [
    {
     "data": {
      "text/html": [
       "<pre class=\"language-APL\">2086478\n",
       "</pre>"
      ]
     },
     "execution_count": 3,
     "metadata": {},
     "output_type": "execute_result"
    }
   ],
   "source": [
    "+/|-⌿{⍵[⍋⍵]}⍤1⍉↑d ⍝ Part 1"
   ]
  },
  {
   "cell_type": "code",
   "execution_count": 8,
   "id": "19b81c4b",
   "metadata": {},
   "outputs": [
    {
     "data": {
      "text/html": [
       "<pre class=\"language-APL\">24941624\n",
       "</pre>"
      ]
     },
     "execution_count": 8,
     "metadata": {},
     "output_type": "execute_result"
    }
   ],
   "source": [
    "(a b)←↓⍉{⍺,≢⍵}⌸⊢/↑d\n",
    "⊃+/v×⍤1⍉(a∘.=⍨v←⊣/↑d)/⍤1⊢b ⍝ Part 2"
   ]
  },
  {
   "cell_type": "markdown",
   "id": "7b501e90",
   "metadata": {},
   "source": [
    "## Day 2: Red-Nosed Reports\n",
    "\n",
    "https://adventofcode.com/2024/day/2\n",
    "\n",
    "Note: the data are NOT rectangular!"
   ]
  },
  {
   "cell_type": "code",
   "execution_count": 1,
   "id": "601e23e1",
   "metadata": {},
   "outputs": [],
   "source": [
    "d ← ⍎¨⊃⎕NGET 'd/2'1"
   ]
  },
  {
   "cell_type": "code",
   "execution_count": 5,
   "id": "f9a39bd4",
   "metadata": {},
   "outputs": [],
   "source": [
    "day02p1 ← {(1=≢∘∪)⍵:0 ⋄ (∧/2=/×t)∧×/1≤3≥↑(⌈/,⌊/)|t←¯2-/⍵}"
   ]
  },
  {
   "cell_type": "code",
   "execution_count": 6,
   "id": "bb91dfdd",
   "metadata": {},
   "outputs": [
    {
     "data": {
      "text/html": [
       "<pre class=\"language-APL\">432\n",
       "</pre>"
      ]
     },
     "execution_count": 6,
     "metadata": {},
     "output_type": "execute_result"
    }
   ],
   "source": [
    "+/day02p1¨d ⍝ Part 1"
   ]
  },
  {
   "cell_type": "code",
   "execution_count": 7,
   "id": "242e234c",
   "metadata": {},
   "outputs": [
    {
     "data": {
      "text/html": [
       "<pre class=\"language-APL\">488\n",
       "</pre>"
      ]
     },
     "execution_count": 7,
     "metadata": {},
     "output_type": "execute_result"
    }
   ],
   "source": [
    "+/day02p1 {1=⍺⍺ ⍵:1 ⋄ ∨/⍺⍺⍤1⊢(~(,⍨⍴1↑⍨1∘+)≢⍵)/⍤1⊢⍵}¨d ⍝ Part 2"
   ]
  },
  {
   "cell_type": "code",
   "execution_count": null,
   "id": "06e202bd",
   "metadata": {},
   "outputs": [],
   "source": []
  }
 ],
 "metadata": {
  "kernelspec": {
   "display_name": "Dyalog APL",
   "language": "apl",
   "name": "dyalog_apl"
  },
  "language_info": {
   "file_extension": ".apl",
   "mimetype": "text/apl",
   "name": "APL"
  }
 },
 "nbformat": 4,
 "nbformat_minor": 5
}
